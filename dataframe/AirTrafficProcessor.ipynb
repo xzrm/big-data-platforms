{
 "cells": [
  {
   "cell_type": "markdown",
   "metadata": {},
   "source": [
    "Before you turn this problem in, make sure everything runs as expected. First, **restart the kernel** (in the menubar, select Kernel$\\rightarrow$Restart) and then **run all cells** (in the menubar, select Cell$\\rightarrow$Run All).\n",
    "\n",
    "Make sure you fill in any place that says `YOUR CODE HERE` or \"YOUR ANSWER HERE\". You can run all the tests with the validate button. If the validate command takes too long, you can also confirm that you pass all the tests if you can run through the whole notebook without getting validation errors."
   ]
  },
  {
   "cell_type": "markdown",
   "metadata": {
    "deletable": false,
    "editable": false,
    "nbgrader": {
     "cell_type": "markdown",
     "checksum": "8bf049eef8b6ef8a0e6339985bc06be3",
     "grade": false,
     "grade_id": "cell-90ea059a91b8a881",
     "locked": true,
     "schema_version": 3,
     "solution": false,
     "task": false
    }
   },
   "source": [
    "For this problem set, we'll be using the Jupyter notebook:\n",
    "\n",
    "![](jupyter.png)"
   ]
  },
  {
   "cell_type": "markdown",
   "metadata": {
    "deletable": false,
    "editable": false,
    "nbgrader": {
     "cell_type": "markdown",
     "checksum": "b0ba4e453a48cae8967d3c7799c7432c",
     "grade": false,
     "grade_id": "cell-50fa86071b1ce553",
     "locked": true,
     "schema_version": 3,
     "solution": false,
     "task": false
    }
   },
   "source": [
    "## DataFrame Exercises\n",
    "In this notebook your job is to implement multiple small methods that process and analyze airtraffic data with DataFrames. DataFrames can be queried with SQL language and through SparkSQL API. Both of them can be used to implement methods in these exercises. The links below may be helpful:\n",
    "\n",
    "- http://spark.apache.org/docs/latest/sql-programming-guide.html\n",
    "- https://spark.apache.org/docs/latest/api/python/pyspark.sql.html\n",
    "\n",
    "We will use a sample of \"2008.csv.bz2\" which contains airtraffic data from https://dataverse.harvard.edu/api/access/datafile/1374917?gbrecs=true.\n",
    "\n",
    "There are already two Spark SQL tables available from the start:\n",
    "\n",
    "- table \"carriers\" inlcudes information of airlines\n",
    "- table \"airports\" includes information of airports\n"
   ]
  },
  {
   "cell_type": "code",
   "execution_count": 1,
   "metadata": {
    "deletable": false,
    "editable": false,
    "nbgrader": {
     "cell_type": "code",
     "checksum": "10559532f672accd364df76cddc17ad2",
     "grade": false,
     "grade_id": "cell-d30fbf86088167a2",
     "locked": true,
     "schema_version": 3,
     "solution": false,
     "task": false
    }
   },
   "outputs": [],
   "source": [
    "from pyspark.sql import SparkSession, Row\n",
    "import pyspark.sql.functions as f\n",
    "import matplotlib\n",
    "import matplotlib.pyplot as plt\n",
    "import matplotlib.dates as mdates\n",
    "import pandas as pd\n",
    "import numpy as np\n",
    "%matplotlib inline\n",
    "\n",
    "spark = SparkSession.builder\\\n",
    "    .master(\"local[*]\")\\\n",
    "    .appName(\"main\")\\\n",
    "    .config(\"spark.dynamicAllocation.enabled\", \"true\")\\\n",
    "    .config(\"spark.shuffle.service.enabled\", \"true\")\\\n",
    "    .getOrCreate()\\\n",
    "\n",
    "#names of tables\n",
    "airTraffic = \"airtraffic\"\n",
    "carriers = \"carriers\"\n",
    "airports = \"airports\"\n",
    "\n",
    "carriersTable = spark.read.csv(\"carriers.csv\", inferSchema=\"true\", header=\"true\")\n",
    "carriersTable.createOrReplaceTempView(carriers)\n",
    "\n",
    "airportsTable = spark.read.csv(\"airports.csv\", inferSchema=\"true\", header=\"true\")\n",
    "airportsTable.createOrReplaceTempView(airports)\n",
    "\n"
   ]
  },
  {
   "cell_type": "code",
   "execution_count": 2,
   "metadata": {
    "deletable": false,
    "editable": false,
    "nbgrader": {
     "cell_type": "code",
     "checksum": "bd0f575b6cd7203b4924fc09156ea9d6",
     "grade": false,
     "grade_id": "cell-25e565086a635770",
     "locked": true,
     "schema_version": 3,
     "solution": false,
     "task": false
    }
   },
   "outputs": [],
   "source": [
    "# Methods and variables that will be used in more than one tests\n",
    "\n",
    "# Test if arrays that contain Row are equal\n",
    "def correctRows(testArray, correctArray):\n",
    "    for i in range(0, len(correctArray)):\n",
    "        assert testArray[i].asDict() == correctArray[i].asDict(), \"the row was expected to be %s but it was %s\" % (correctArray[i].asDict(), testArray[i].asDict())\n",
    "\n",
    "# Path of smaller airtraffic data set\n",
    "sampleFile = \"2008_sample.csv\"\n",
    "testFile = \"2008_testsample.csv\""
   ]
  },
  {
   "cell_type": "markdown",
   "metadata": {
    "deletable": false,
    "editable": false,
    "nbgrader": {
     "cell_type": "markdown",
     "checksum": "5ed36190a5fe0d70b9c3b491eeab2ff0",
     "grade": false,
     "grade_id": "cell-40ad987da31b7af1",
     "locked": true,
     "schema_version": 3,
     "solution": false,
     "task": false
    }
   },
   "source": [
    "## Load Data and Register \n",
    "`loadDataAndRegister` loads airtraffic data and registers it as a table so that we can use it later for Spark SQL. \n",
    "\n",
    "param `path`: path of file that should be loaded and registered.\n",
    "\n",
    "`return`: DataFrame containing airtraffic information.\n",
    "\n",
    "The schema of returned DataFrame should be:\n",
    "\n",
    "Name | Type\n",
    "------| :-----\n",
    "Year  | integer (nullable = true)\n",
    "Month | integer (nullable = true)\n",
    "DayofMonth | integer (nullable = true)\n",
    "DayOfWeek | integer (nullable = true)\n",
    "DepTime | integer (nullable = true)\n",
    "CRSDepTime | integer (nullable = true)\n",
    "ArrTime | integer (nullable = true)\n",
    "CRSArrTime | integer (nullable = true)\n",
    "UniqueCarrier | string (nullable = true)\n",
    "FlightNum | integer (nullable = true)\n",
    "TailNum | string (nullable = true)\n",
    "ActualElapsedTime | integer (nullable = true)\n",
    "CRSElapsedTime | integer (nullable = true)\n",
    "AirTime | integer (nullable = true)\n",
    "ArrDelay | integer (nullable = true)\n",
    "DepDelay | integer (nullable = true)\n",
    "Origin | string (nullable = true)\n",
    "Dest | string (nullable = true)\n",
    "Distance | integer (nullable = true)\n",
    "TaxiIn | integer (nullable = true)\n",
    "TaxiOut | integer (nullable = true)\n",
    "Cancelled | integer (nullable = true)\n",
    "CancellationCode | string (nullable = true)\n",
    "Diverted | integer (nullable = true)\n",
    "CarrierDelay | integer (nullable = true)\n",
    "WeatherDelay | integer (nullable = true)\n",
    "NASDelay | integer (nullable = true)\n",
    "SecurityDelay | integer (nullable = true)\n",
    "LateAircraftDelay | integer (nullable = true)\n",
    "\n",
    "Hints:\n",
    "- How to load csv data: https://spark.apache.org/docs/latest/api/python/pyspark.sql.html#pyspark.sql.DataFrameReader\n",
    "- If you just load data using `inferSchema=\"true\"`, some of the fields which shoud be Integers are casted to Strings because null values are represented as \"NA\" strings in the data. E.g. 2008,7,2,3,733,735,858,852,DL,1551,N957DL,85,77,42,6,-2,CAE, ATL,191,15,28,0,,0,NA,NA,NA,NA,NA. Therefore you need to replace all \"NA\" strings with null. Option \"nullValue\" is helpful.\n",
    "- Please use the variable `airTraffic` as table name."
   ]
  },
  {
   "cell_type": "code",
   "execution_count": 3,
   "metadata": {
    "deletable": false,
    "nbgrader": {
     "cell_type": "code",
     "checksum": "bcdb15008056f573d2abc00f76b9ee8b",
     "grade": false,
     "grade_id": "cell-bfe253e68fa6ac7b",
     "locked": false,
     "schema_version": 3,
     "solution": true,
     "task": false
    }
   },
   "outputs": [],
   "source": [
    "def loadDataAndRegister(path):\n",
    "    airTrafficTable = spark.read.csv(path, header=True,\n",
    "                                inferSchema=True,\n",
    "                                nullValue=\"NA\")\n",
    "    airTrafficTable.createOrReplaceTempView(airTraffic)\n",
    "    return airTrafficTable"
   ]
  },
  {
   "cell_type": "markdown",
   "metadata": {},
   "source": [
    "## example print\n",
    "\n",
    "data = loadDataAndRegister(testFile)\n",
    "data.show(5)\n",
    "data.schema"
   ]
  },
  {
   "cell_type": "code",
   "execution_count": 4,
   "metadata": {
    "deletable": false,
    "editable": false,
    "nbgrader": {
     "cell_type": "code",
     "checksum": "9fd95a5cae774edccfd99c139e867efe",
     "grade": true,
     "grade_id": "cell-6c08bbe902d68a6a",
     "locked": true,
     "points": 1,
     "schema_version": 3,
     "solution": false,
     "task": false
    }
   },
   "outputs": [],
   "source": [
    "'''loadDataAndRegister tests'''\n",
    "\n",
    "df = loadDataAndRegister(testFile)\n",
    "\n",
    "# Table \"airtraffic\" should exists\n",
    "assert spark.sql(\"SHOW TABLES Like 'airtraffic'\").count() == 1, \"there was expected to be a table called 'airtraffic'\"\n",
    "\n",
    "# Columns should have correct values\n",
    "third = df.collect()[2]\n",
    "correctRow = Row(Year=2008, Month=5, DayofMonth=6, DayOfWeek=2, DepTime=611,\n",
    "                             CRSDepTime=615, ArrTime=729, CRSArrTime=735, UniqueCarrier='EV',\n",
    "                             FlightNum=4794, TailNum='N916EV', ActualElapsedTime=78,\n",
    "                             CRSElapsedTime=80, AirTime=58, ArrDelay=-6, DepDelay=-4,\n",
    "                             Origin='ROA', Dest='ATL', Distance=357, TaxiIn=9, TaxiOut=11,\n",
    "                             Cancelled=0, CancellationCode=None, Diverted=0, CarrierDelay=None,\n",
    "                             WeatherDelay=None, NASDelay=None, SecurityDelay=None,\n",
    "                             LateAircraftDelay=None).asDict()\n",
    "\n",
    "assert third.asDict() == correctRow, \"the row was expected to be %s but it was %s\" % (correctRow, third.asDict())\n"
   ]
  },
  {
   "cell_type": "markdown",
   "metadata": {
    "deletable": false,
    "editable": false,
    "nbgrader": {
     "cell_type": "markdown",
     "checksum": "40cc085d28c3324dd3760dce5ee5c5ba",
     "grade": false,
     "grade_id": "cell-e61130799de80f50",
     "locked": true,
     "schema_version": 3,
     "solution": false,
     "task": false
    }
   },
   "source": [
    "## Flight Count\n",
    "`flightCount` gets the number of flights for each airplane. The \"TailNum\" column is unique for each airplane so it can be used.\n",
    "\n",
    "param `df`: Airtraffic DataFrame created using `loadDataAndRegister`.\n",
    "\n",
    "`return`: DataFrame containing number of flights per TailNum. DataFrame should include columns \"TailNum\" and \"count\" (the number of flights for an airplane) . Airplanes whose TailNum is null should not be included in the returned DataFrame. **The returned DataFrame should be sorted by count in descending order.** \n",
    "\n",
    "Example output:\n",
    "\n",
    "TailNum|count\n",
    "-------:|-----\n",
    "N693BR| 1526|\n",
    "N646BR| 1505|\n",
    "N476HA| 1490|\n",
    "N485HA| 1441|\n",
    "N486HA| 1439|\n"
   ]
  },
  {
   "cell_type": "code",
   "execution_count": 5,
   "metadata": {
    "deletable": false,
    "nbgrader": {
     "cell_type": "code",
     "checksum": "17498dab766f1c3a3301015751980371",
     "grade": false,
     "grade_id": "cell-20d2fb1cd111b5a0",
     "locked": false,
     "schema_version": 3,
     "solution": true,
     "task": false
    }
   },
   "outputs": [],
   "source": [
    "from pyspark.sql.functions import col\n",
    "def flightCount(df):\n",
    "    return df.filter(df.TailNum.isNotNull()).groupBy('TailNum').count().sort(col(\"count\").desc())\n"
   ]
  },
  {
   "cell_type": "code",
   "execution_count": 6,
   "metadata": {},
   "outputs": [
    {
     "name": "stdout",
     "output_type": "stream",
     "text": [
      "+-------+-----+\n",
      "|TailNum|count|\n",
      "+-------+-----+\n",
      "| N317AE|    2|\n",
      "| N515MJ|    2|\n",
      "| N909FJ|    1|\n",
      "| N464AA|    1|\n",
      "| N729SW|    1|\n",
      "+-------+-----+\n",
      "only showing top 5 rows\n",
      "\n"
     ]
    }
   ],
   "source": [
    "# example print\n",
    "data = loadDataAndRegister(sampleFile)\n",
    "flightCount(data).show(5)"
   ]
  },
  {
   "cell_type": "code",
   "execution_count": 7,
   "metadata": {
    "deletable": false,
    "editable": false,
    "nbgrader": {
     "cell_type": "code",
     "checksum": "a7412f7067cd85254f1c3e4a32d750c8",
     "grade": true,
     "grade_id": "cell-3f9fb24d76986562",
     "locked": true,
     "points": 1,
     "schema_version": 3,
     "solution": false,
     "task": false
    }
   },
   "outputs": [],
   "source": [
    "'''flightCount tests'''\n",
    "\n",
    "data = loadDataAndRegister(testFile)\n",
    "        \n",
    "correct = [Row(TailNum='N824AS', count=2),\n",
    "           Row(TailNum='N856AS', count=1),\n",
    "           Row(TailNum='N886AS', count=1),\n",
    "           Row(TailNum='N916EV', count=1),\n",
    "           Row(TailNum='N873AS', count=1),\n",
    "           Row(TailNum='N881AS', count=1)]\n",
    "\n",
    "correctRows(flightCount(data).collect(), correct)\n"
   ]
  },
  {
   "cell_type": "markdown",
   "metadata": {
    "deletable": false,
    "editable": false,
    "nbgrader": {
     "cell_type": "markdown",
     "checksum": "9f590088b13ac0008c34e5b13593900b",
     "grade": false,
     "grade_id": "cell-3f51d7b34e18e975",
     "locked": true,
     "schema_version": 3,
     "solution": false,
     "task": false
    }
   },
   "source": [
    "### You can either use Spark SQL or normal DataFrame (given as parameter) transformations to implement the methods below.\n",
    "\n",
    "## Cancelled Due to Security\n",
    "`cancelledDueToSecurity` finds which flights were cancelled due to security reasons. \n",
    "\n",
    "`return`: DataFrame containing flights which were cancelled due to security reasons (CancellationCode = \"D\"). Columns \"FlightNum\" and \"Dest\" should be included.\n",
    "\n",
    "Example output:\n",
    "\n",
    "FlightNum|Dest|\n",
    "----:|-------\n",
    "4285| DHN|\n",
    "4790| ATL|\n",
    "3631| LEX|\n",
    "3632| DFW|"
   ]
  },
  {
   "cell_type": "code",
   "execution_count": 8,
   "metadata": {
    "deletable": false,
    "nbgrader": {
     "cell_type": "code",
     "checksum": "b4c2ca564d8d68f17ca6c12db8378dbb",
     "grade": false,
     "grade_id": "cell-fb017ff799a781d8",
     "locked": false,
     "schema_version": 3,
     "solution": true,
     "task": false
    }
   },
   "outputs": [],
   "source": [
    "def cancelledDueToSecurity(df):\n",
    "    return df.filter(df.CancellationCode == \"D\").select(df.FlightNum, df.Dest) \n"
   ]
  },
  {
   "cell_type": "code",
   "execution_count": 9,
   "metadata": {},
   "outputs": [
    {
     "name": "stdout",
     "output_type": "stream",
     "text": [
      "+---------+----+\n",
      "|FlightNum|Dest|\n",
      "+---------+----+\n",
      "|     1642| LAS|\n",
      "|      585| MSP|\n",
      "+---------+----+\n",
      "\n"
     ]
    }
   ],
   "source": [
    "# example print\n",
    "\n",
    "data = loadDataAndRegister(sampleFile)\n",
    "cancelledDueToSecurity(data).show(5)"
   ]
  },
  {
   "cell_type": "code",
   "execution_count": 10,
   "metadata": {
    "deletable": false,
    "editable": false,
    "nbgrader": {
     "cell_type": "code",
     "checksum": "0fd72a5ee74fd7a2050cf6a2164d321d",
     "grade": true,
     "grade_id": "cell-e1479f159bf5f849",
     "locked": true,
     "points": 1,
     "schema_version": 3,
     "solution": false,
     "task": false
    }
   },
   "outputs": [],
   "source": [
    "'''cancelledDueToSecurity tests'''\n",
    "\n",
    "data = loadDataAndRegister(testFile)\n",
    "correct = [Row(FlightNum=4794, Dest='JFK'), Row(FlightNum=4794, Dest='ATL')]\n",
    "correctRows(cancelledDueToSecurity(data).collect(), correct)\n"
   ]
  },
  {
   "cell_type": "markdown",
   "metadata": {
    "deletable": false,
    "editable": false,
    "nbgrader": {
     "cell_type": "markdown",
     "checksum": "d7e25dec8ad1060b7036d3471baee039",
     "grade": false,
     "grade_id": "cell-1cefad119798d3fc",
     "locked": true,
     "schema_version": 3,
     "solution": false,
     "task": false
    }
   },
   "source": [
    "## Longest Weather Delay\n",
    "`longestWeatherDelay` finds the longest weather delay between January and March (1.1-31.3).\n",
    "\n",
    "`return`: DataFrame containing the longest weather delay.\n",
    "\n",
    "Example output:\n",
    "\n",
    "|_c0|\n",
    "|-------:|\n",
    "|1148|"
   ]
  },
  {
   "cell_type": "code",
   "execution_count": 11,
   "metadata": {
    "deletable": false,
    "nbgrader": {
     "cell_type": "code",
     "checksum": "83b6730d381a5e11e5a390df78713b81",
     "grade": false,
     "grade_id": "cell-d45f8eda49622402",
     "locked": false,
     "schema_version": 3,
     "solution": true,
     "task": false
    }
   },
   "outputs": [],
   "source": [
    "def longestWeatherDelay(df):\n",
    "    return df.filter((df.Month >= 1) & (df.Month <=3)).select(df.WeatherDelay).agg({'WeatherDelay': 'max'}) \n"
   ]
  },
  {
   "cell_type": "code",
   "execution_count": 12,
   "metadata": {},
   "outputs": [
    {
     "name": "stdout",
     "output_type": "stream",
     "text": [
      "+-----------------+\n",
      "|max(WeatherDelay)|\n",
      "+-----------------+\n",
      "|               40|\n",
      "+-----------------+\n",
      "\n"
     ]
    }
   ],
   "source": [
    "# example print\n",
    "\n",
    "data = loadDataAndRegister(sampleFile)\n",
    "longestWeatherDelay(data).show()"
   ]
  },
  {
   "cell_type": "code",
   "execution_count": 13,
   "metadata": {
    "deletable": false,
    "editable": false,
    "nbgrader": {
     "cell_type": "code",
     "checksum": "d20f5af7afbbf818d2546d8266f0c61b",
     "grade": true,
     "grade_id": "cell-53c1c30ab99a1c12",
     "locked": true,
     "points": 1,
     "schema_version": 3,
     "solution": false,
     "task": false
    }
   },
   "outputs": [],
   "source": [
    "'''longestWeatherDelay tests'''\n",
    "\n",
    "data = loadDataAndRegister(testFile)\n",
    "test = longestWeatherDelay(data).first()[0]\n",
    "\n",
    "assert test == 7, \"the longest weather delay was expected to be 7 but it was %s\" % test\n",
    "\n"
   ]
  },
  {
   "cell_type": "markdown",
   "metadata": {
    "deletable": false,
    "editable": false,
    "nbgrader": {
     "cell_type": "markdown",
     "checksum": "9c87e0f67df87c5cacb82b5abb7caf67",
     "grade": false,
     "grade_id": "cell-38a73e197f44e2e7",
     "locked": true,
     "schema_version": 3,
     "solution": false,
     "task": false
    }
   },
   "source": [
    "## Did Not Fly\n",
    "`didNotFly` finds which airlines didn't have flights. \n",
    "\n",
    "`return`: DataFrame containig descriptions (names) of airlines that didn't have flights.\n",
    "\n",
    "Example output:\n",
    "\n",
    "|         Description|\n",
    "|--------------------|\n",
    "|Aero Transcolombiana|\n",
    "|Transmeridian Air...|\n",
    "|Luftransport-Unte...|\n",
    "|Euro Atlantic Air...|\n",
    "|    Pearson Aircraft|\n",
    "\n",
    "\n",
    "Hints:\n",
    "- Schema \"UniqueCarrier\" (the code of airline) of table \"airtraffic\" can be used when implementing this method.\n",
    "- Table \"carriers\" containing airlines' names is already loaded to \"carriersTable\" object at the beginning."
   ]
  },
  {
   "cell_type": "code",
   "execution_count": 14,
   "metadata": {
    "deletable": false,
    "nbgrader": {
     "cell_type": "code",
     "checksum": "05288f8d42a4b35e025beda5eb64bdf1",
     "grade": false,
     "grade_id": "cell-552ade7167c99701",
     "locked": false,
     "schema_version": 3,
     "solution": true,
     "task": false
    }
   },
   "outputs": [],
   "source": [
    "def didNotFly(df):\n",
    "    df = carriersTable \\\n",
    "        .join(df, carriersTable.Code == df.UniqueCarrier, \"leftanti\")\n",
    "    return df.select(df[\"Description\"])\n",
    "    \n",
    "    \n"
   ]
  },
  {
   "cell_type": "code",
   "execution_count": 15,
   "metadata": {},
   "outputs": [
    {
     "name": "stdout",
     "output_type": "stream",
     "text": [
      "+--------------------+\n",
      "|         Description|\n",
      "+--------------------+\n",
      "|       Titan Airways|\n",
      "|  Tradewind Aviation|\n",
      "|     Comlux Aviation|\n",
      "|Master Top Linhas...|\n",
      "| Flair Airlines Ltd.|\n",
      "+--------------------+\n",
      "only showing top 5 rows\n",
      "\n"
     ]
    }
   ],
   "source": [
    "# example print\n",
    "data = loadDataAndRegister(sampleFile)\n",
    "didNotFly(data).show(5)"
   ]
  },
  {
   "cell_type": "code",
   "execution_count": 16,
   "metadata": {
    "deletable": false,
    "editable": false,
    "nbgrader": {
     "cell_type": "code",
     "checksum": "67524ed750bd73dcb552604569ef8f81",
     "grade": true,
     "grade_id": "cell-59374780b808d68c",
     "locked": true,
     "points": 1,
     "schema_version": 3,
     "solution": false,
     "task": false
    }
   },
   "outputs": [],
   "source": [
    "'''didNotFly tests'''\n",
    "\n",
    "data = loadDataAndRegister(testFile)\n",
    "test = didNotFly(data).count()\n",
    "\n",
    "assert test == 1489, \"the amount of airlines that didn't fly was expected to be 1489 but it was %s\" % test\n"
   ]
  },
  {
   "cell_type": "markdown",
   "metadata": {
    "deletable": false,
    "editable": false,
    "nbgrader": {
     "cell_type": "markdown",
     "checksum": "eef181d711c1ad7b62ba7fa0d58c0db0",
     "grade": false,
     "grade_id": "cell-ef01b8ec497ac2f2",
     "locked": true,
     "schema_version": 3,
     "solution": false,
     "task": false
    }
   },
   "source": [
    "## Flights from Vegas to JFK\n",
    "`flightsFromVegasToJFK` finds airlines that fly from Vegas to JFK.\n",
    "\n",
    "`return`: DataFrame containing columns \"Descriptions\" (names of airlines) and \"Num\" (number of flights). **The DataFrame should be sorted by Num in descending order.**\n",
    "\n",
    "Example output:\n",
    "\n",
    "|         Description|Num|\n",
    "|--------------------|---|\n",
    "|     JetBlue Airways|566|\n",
    "|Delta Air Lines Inc.|441|\n",
    "|US Airways Inc. (...|344|\n",
    "|American Airlines...|121|\n",
    "\n",
    "Hints:\n",
    "- Vegas iasa code: LAS. JFK iasa code: JFK"
   ]
  },
  {
   "cell_type": "code",
   "execution_count": 17,
   "metadata": {
    "deletable": false,
    "nbgrader": {
     "cell_type": "code",
     "checksum": "17bc2f44ba1468314759ad2c15a7cedd",
     "grade": false,
     "grade_id": "cell-fe98e1ead5170fbe",
     "locked": false,
     "schema_version": 3,
     "solution": true,
     "task": false
    }
   },
   "outputs": [],
   "source": [
    "def flightsFromVegasToJFK(df):\n",
    "    df = df.filter((df.Origin == \"LAS\") & (df.Dest == \"JFK\")) \\\n",
    "        .groupBy(\"UniqueCarrier\").count()\n",
    "    \n",
    "    res_df = carriersTable \\\n",
    "        .join(df, carriersTable.Code == df.UniqueCarrier, \"inner\").sort(\"count\", ascending=False) \\\n",
    "        .withColumnRenamed(\"count\", \"Num\")\n",
    "    \n",
    "    return res_df.select(res_df[\"Description\"], res_df[\"Num\"])"
   ]
  },
  {
   "cell_type": "code",
   "execution_count": 18,
   "metadata": {},
   "outputs": [
    {
     "name": "stdout",
     "output_type": "stream",
     "text": [
      "+--------------------+---+\n",
      "|         Description|Num|\n",
      "+--------------------+---+\n",
      "|Pinnacle Airlines...|  1|\n",
      "|Northwest Airline...|  1|\n",
      "+--------------------+---+\n",
      "\n"
     ]
    }
   ],
   "source": [
    "# example print\n",
    "\n",
    "data = loadDataAndRegister(sampleFile)\n",
    "flightsFromVegasToJFK(data).show(5)"
   ]
  },
  {
   "cell_type": "code",
   "execution_count": 19,
   "metadata": {
    "deletable": false,
    "editable": false,
    "nbgrader": {
     "cell_type": "code",
     "checksum": "5cff3df715a3750cc252b131c7f96b6e",
     "grade": true,
     "grade_id": "cell-991772855c084e7e",
     "locked": true,
     "points": 1,
     "schema_version": 3,
     "solution": false,
     "task": false
    }
   },
   "outputs": [],
   "source": [
    "'''flightsFromVegasToJFK tests'''\n",
    "\n",
    "data = loadDataAndRegister(testFile)\n",
    "correct = [Row(Description='Titan Airways', Num=1),\n",
    "           Row(Description='Atlantic Southeast Airlines', Num=1)]\n",
    "correctRows(flightsFromVegasToJFK(data).collect(), correct)\n"
   ]
  },
  {
   "cell_type": "markdown",
   "metadata": {
    "deletable": false,
    "editable": false,
    "nbgrader": {
     "cell_type": "markdown",
     "checksum": "b0134ca1798dedb9d4e3655ddfb92393",
     "grade": false,
     "grade_id": "cell-1140ebafe71e3fc0",
     "locked": true,
     "schema_version": 3,
     "solution": false,
     "task": false
    }
   },
   "source": [
    "## Time Spent in Taxiing\n",
    "`timeSpentTaxiing` finds how much time airplanes spent in moving from gate to the runway and vise versa at an airport on average. \n",
    "\n",
    "`return`: DataFrame contains the average time spent in taxiing per airport. The DataFrame should contain columns \"airport\" (iata codes of airports) and \"taxi\" (the average time spent in taxiing). **The DataFrame should be sorted by \"taxi\" in ascending order.**\n",
    "\n",
    "Example output:\n",
    "\n",
    "|airport|             taxi|\n",
    "|-------|-----------------|\n",
    "|    DLG|              4.0|\n",
    "|    BRW|5.051010191310567|\n",
    "|    OME|6.034800675790983|\n",
    "|    AKN|             6.75|\n",
    "|    SCC|6.842553191489362|\n",
    "\n",
    "Hints:\n",
    "- Columns \"TaxiIn\" and \"TaxiOut\" tells time spend in taxiing. \"TaxiIn\" means time spent in taxiing in departure (\"Origin\") airport and \"TaxiOut\" spent in taxiing in arrival (\"Dest\") airport. The wanted average is (average taxiing at origin for a given destination + average taxiing at destination for a given matching origin) / 2."
   ]
  },
  {
   "cell_type": "code",
   "execution_count": 20,
   "metadata": {
    "deletable": false,
    "nbgrader": {
     "cell_type": "code",
     "checksum": "31ca5bf363e0dd6fe5da0cd6c1964c42",
     "grade": false,
     "grade_id": "cell-0f002dfa60db00d1",
     "locked": false,
     "schema_version": 3,
     "solution": true,
     "task": false
    }
   },
   "outputs": [],
   "source": [
    "from pyspark.sql.functions import col\n",
    "\n",
    "def timeSpentTaxiing(df):\n",
    "\n",
    "    taxiIn = df.groupBy('Origin').agg({'TaxiIn':'avg'}) \n",
    "    taxiOut = df.groupBy('Dest').agg({'TaxiOut':'avg'}) \n",
    "    \n",
    "    cols = [col('avg(TaxiIn)'), col('avg(TaxiOut)')]\n",
    "    averageFunc = sum(x for x in cols) / len(cols)\n",
    "    new_df = taxiIn.join(taxiOut, taxiIn.Origin == taxiOut.Dest, \"inner\").withColumn(\"taxi\", averageFunc)\n",
    "    \n",
    "    return new_df.select(new_df[\"Dest\"], new_df[\"taxi\"]) \\\n",
    "                .withColumnRenamed(\"Dest\", \"airport\").sort(\"taxi\", ascending=True)\n",
    "    "
   ]
  },
  {
   "cell_type": "code",
   "execution_count": 21,
   "metadata": {},
   "outputs": [
    {
     "name": "stdout",
     "output_type": "stream",
     "text": [
      "+-------+-----+\n",
      "|airport| taxi|\n",
      "+-------+-----+\n",
      "|    LAS| 11.0|\n",
      "|    JFK|13.25|\n",
      "+-------+-----+\n",
      "\n"
     ]
    }
   ],
   "source": [
    "# example print\n",
    "\n",
    "# data = loadDataAndRegister(sampleFile)\n",
    "data = loadDataAndRegister(testFile)\n",
    "timeSpentTaxiing(data).show(5)"
   ]
  },
  {
   "cell_type": "code",
   "execution_count": 22,
   "metadata": {
    "deletable": false,
    "editable": false,
    "nbgrader": {
     "cell_type": "code",
     "checksum": "973e093a92c66638724ca662d2cfd1ce",
     "grade": true,
     "grade_id": "cell-40e3432aaa3bf3be",
     "locked": true,
     "points": 1,
     "schema_version": 3,
     "solution": false,
     "task": false
    }
   },
   "outputs": [],
   "source": [
    "'''timeSpentTaxiing tests'''\n",
    "\n",
    "data = loadDataAndRegister(testFile)\n",
    "correct = [Row(airport='LAS', taxi=11.0), Row(airport='JFK', taxi=13.25)]\n",
    "correctRows(timeSpentTaxiing(data).collect(), correct)\n"
   ]
  },
  {
   "cell_type": "markdown",
   "metadata": {
    "deletable": false,
    "editable": false,
    "nbgrader": {
     "cell_type": "markdown",
     "checksum": "2f373f492b57f40a8759a57b4cc5dfe5",
     "grade": false,
     "grade_id": "cell-e1490cdb97940979",
     "locked": true,
     "schema_version": 3,
     "solution": false,
     "task": false
    }
   },
   "source": [
    "## Distance Median\n",
    "`distanceMedian` finds the median travel distance.\n",
    "\n",
    "`return`: DataFrame containing the median travel distance.\n",
    "\n",
    "Example output:\n",
    "\n",
    "|_ c0|\n",
    "|---|\n",
    "|583.0|\n",
    "\n",
    "Hints:\n",
    "- Schema \"Distance\" of table \"airtraffic\" contains distance information.\n",
    "- You should use exact percentile functions like Spark SQL build-in [percentile function](https://spark.apache.org/docs/latest/api/sql/index.html#percentile).  \n",
    "- What does percentile mean? Please check: https://en.wikipedia.org/wiki/Percentile#Third_variant and http://onlinestatbook.com/2/introduction/percentiles.html"
   ]
  },
  {
   "cell_type": "code",
   "execution_count": 23,
   "metadata": {
    "deletable": false,
    "nbgrader": {
     "cell_type": "code",
     "checksum": "fefa6bbf8c30a6ef947e7339a9470add",
     "grade": false,
     "grade_id": "cell-58300baf43582623",
     "locked": false,
     "schema_version": 3,
     "solution": true,
     "task": false
    }
   },
   "outputs": [],
   "source": [
    "def distanceMedian(df):\n",
    "    return df.agg(f.expr(\"percentile(Distance, 0.5)\").alias(\"50_percentile\")) "
   ]
  },
  {
   "cell_type": "code",
   "execution_count": 24,
   "metadata": {},
   "outputs": [
    {
     "name": "stdout",
     "output_type": "stream",
     "text": [
      "+-------------+\n",
      "|50_percentile|\n",
      "+-------------+\n",
      "|        507.5|\n",
      "+-------------+\n",
      "\n"
     ]
    }
   ],
   "source": [
    "# example print\n",
    "\n",
    "data = loadDataAndRegister(sampleFile)\n",
    "distanceMedian(data).show()"
   ]
  },
  {
   "cell_type": "code",
   "execution_count": 25,
   "metadata": {
    "deletable": false,
    "editable": false,
    "nbgrader": {
     "cell_type": "code",
     "checksum": "8b0da35be87d45d5bbd13d6b91fe4516",
     "grade": true,
     "grade_id": "cell-1dcf02c028a05fee",
     "locked": true,
     "points": 1,
     "schema_version": 3,
     "solution": false,
     "task": false
    }
   },
   "outputs": [],
   "source": [
    "'''distanceMedian tests'''\n",
    "\n",
    "data = loadDataAndRegister(testFile)\n",
    "test = distanceMedian(data).first()[0]\n",
    "assert test == 357.0, \"the distance median was expected to be 357.0 but it was %s\" % test\n"
   ]
  },
  {
   "cell_type": "markdown",
   "metadata": {
    "deletable": false,
    "editable": false,
    "nbgrader": {
     "cell_type": "markdown",
     "checksum": "045e3d983128073c7c11b868153b9ac9",
     "grade": false,
     "grade_id": "cell-6d4187ed3dbba604",
     "locked": true,
     "schema_version": 3,
     "solution": false,
     "task": false
    }
   },
   "source": [
    "## Score95\n",
    "`score95` finds the percentile, below which 95% of the delay (CarrierDelay) observations may be found. \n",
    "\n",
    "return: DataFrame containing the 95th percentile of carrier delay. \n",
    "\n",
    "Example output:\n",
    "\n",
    "|_ c0|\n",
    "|----|\n",
    "|77.0|\n",
    "\n",
    "Hints:\n",
    "- You should use exact percentile functions like Spark SQL build-in [percentile function](https://spark.apache.org/docs/latest/api/sql/index.html#percentile). "
   ]
  },
  {
   "cell_type": "code",
   "execution_count": 26,
   "metadata": {
    "deletable": false,
    "nbgrader": {
     "cell_type": "code",
     "checksum": "6c475e0d3122112cdc420879f54cc1b5",
     "grade": false,
     "grade_id": "cell-abc85ec1c4934e2b",
     "locked": false,
     "schema_version": 3,
     "solution": true,
     "task": false
    }
   },
   "outputs": [],
   "source": [
    "def score95(df):\n",
    "    return df.agg(f.expr(\"percentile(CarrierDelay, 0.95)\").alias(\"95_percentile\")) \n"
   ]
  },
  {
   "cell_type": "code",
   "execution_count": 27,
   "metadata": {},
   "outputs": [
    {
     "name": "stdout",
     "output_type": "stream",
     "text": [
      "+-----------------+\n",
      "|    95_percentile|\n",
      "+-----------------+\n",
      "|33.85000000000002|\n",
      "+-----------------+\n",
      "\n"
     ]
    }
   ],
   "source": [
    "# example print\n",
    "\n",
    "data = loadDataAndRegister(sampleFile)\n",
    "score95(data).show()"
   ]
  },
  {
   "cell_type": "code",
   "execution_count": 28,
   "metadata": {
    "deletable": false,
    "editable": false,
    "nbgrader": {
     "cell_type": "code",
     "checksum": "51f8717ac552ad6f1996942a470a4fde",
     "grade": true,
     "grade_id": "cell-35c0c633364954f5",
     "locked": true,
     "points": 1,
     "schema_version": 3,
     "solution": false,
     "task": false
    }
   },
   "outputs": [],
   "source": [
    "'''score95 tests'''\n",
    "\n",
    "data = loadDataAndRegister(testFile)\n",
    "test = score95(data).first()[0]\n",
    "assert test == 17.0, \"the score95 was expected to be 17.0 but it was %s\" % test\n"
   ]
  },
  {
   "cell_type": "markdown",
   "metadata": {
    "deletable": false,
    "editable": false,
    "nbgrader": {
     "cell_type": "markdown",
     "checksum": "2f8e037b75a0e57121db95e3f494e507",
     "grade": false,
     "grade_id": "cell-24a88302f806b88a",
     "locked": true,
     "schema_version": 3,
     "solution": false,
     "task": false
    }
   },
   "source": [
    "## Cancelled Flights\n",
    "`cancelledFlights` finds airports where flights were cancelled. \n",
    "\n",
    "return: DataFrame containing columns \"airport\", \"city\" and \"percentage\". \n",
    "- Columns \"airport\" and \"city\" can be found from table \"airports\". Column \"percentage\" is the cancellation percentage of each airport (number of cancelled flights/total of flights).\n",
    "- **The returned DataFrame should be sorted by \"percentage\" and secondly by \"airport\" both in descending order.**\n",
    "\n",
    "Example output:\n",
    "\n",
    "|             airport|       city|         percentage|\n",
    "|--------------------|-----------|-------------------|\n",
    "|Pellston Regional...|   Pellston| 0.3157894736842105|\n",
    "|  Waterloo Municipal|   Waterloo|               0.25|\n",
    "|  Telluride Regional|  Telluride|0.21084337349397592|\n",
    "|Houghton County M...|    Hancock|0.19834710743801653|\n",
    "|Rhinelander-Oneid...|Rhinelander|            0.15625|"
   ]
  },
  {
   "cell_type": "code",
   "execution_count": 29,
   "metadata": {
    "deletable": false,
    "nbgrader": {
     "cell_type": "code",
     "checksum": "8866f63d2e72504e2e515b33d2257d0d",
     "grade": false,
     "grade_id": "cell-17b9170986045710",
     "locked": false,
     "schema_version": 3,
     "solution": true,
     "task": false
    }
   },
   "outputs": [],
   "source": [
    "from pyspark.sql.functions import col\n",
    "\n",
    "def cancelledFlights(df):\n",
    "    \n",
    "    df_sum_flights = df.groupBy(\"Origin\") \\\n",
    "        .agg(f.count('FlightNum').alias('FlightCount'))\n",
    "    \n",
    "    df_flights_cancelled = df.filter(df.Cancelled == 1) \\\n",
    "        .groupBy(\"Origin\") \\\n",
    "        .agg(f.count('FlightNum').alias('CancelledFlightCount'))\n",
    "    \n",
    "    #sf = sum flights\n",
    "    df_sf = df_sum_flights.select(\n",
    "        *(col(x).alias(x + '_1') if x == 'Origin' else col(x) for x in df_sum_flights.columns))\n",
    "    \n",
    "    #fc = flights cancelled\n",
    "    df_fc = df_flights_cancelled.select(\n",
    "        *(col(x).alias(x + '_2') if x == 'Origin' else col(x) for x in df_flights_cancelled.columns))\n",
    "\n",
    "    inner_df = df_sf.join(df_fc, df_sf.Origin_1 == df_fc.Origin_2, \"inner\") \\\n",
    "                .withColumn('percentage', (col('CancelledFlightCount') / col('FlightCount')))\n",
    "    \n",
    "    new_inner_df = inner_df.join(airportsTable, inner_df.Origin_1 == airportsTable.iata, \"inner\")\n",
    "    \n",
    "    return new_inner_df.select(new_inner_df.airport, new_inner_df.city, new_inner_df.percentage) \\\n",
    "        .sort([\"percentage\", \"airport\"], ascending=False)\n"
   ]
  },
  {
   "cell_type": "code",
   "execution_count": 30,
   "metadata": {},
   "outputs": [
    {
     "name": "stdout",
     "output_type": "stream",
     "text": [
      "+--------------------+---------+----------+\n",
      "|             airport|     city|percentage|\n",
      "+--------------------+---------+----------+\n",
      "|McCarran Internat...|Las Vegas|       0.5|\n",
      "|Roanoke Regional/...|  Roanoke|      0.25|\n",
      "+--------------------+---------+----------+\n",
      "\n"
     ]
    }
   ],
   "source": [
    "# example print\n",
    "\n",
    "# data = loadDataAndRegister(sampleFile)\n",
    "data = loadDataAndRegister(testFile)\n",
    "cancelledFlights(data).show(5)"
   ]
  },
  {
   "cell_type": "code",
   "execution_count": 31,
   "metadata": {
    "deletable": false,
    "editable": false,
    "nbgrader": {
     "cell_type": "code",
     "checksum": "5e6b1dbfc1b83f773845e31ac8909a27",
     "grade": true,
     "grade_id": "cell-e211e51912c680af",
     "locked": true,
     "points": 1,
     "schema_version": 3,
     "solution": false,
     "task": false
    }
   },
   "outputs": [],
   "source": [
    "'''cancelledFlights tests'''\n",
    "\n",
    "data = loadDataAndRegister(testFile)\n",
    "correct = [Row(airport='McCarran International', city='Las Vegas', percentage=0.5),\n",
    "           Row(airport='Roanoke Regional/ Woodrum ', city='Roanoke', percentage=0.25)]\n",
    "correctRows(cancelledFlights(data).collect(), correct)\n"
   ]
  },
  {
   "cell_type": "markdown",
   "metadata": {
    "deletable": false,
    "editable": false,
    "nbgrader": {
     "cell_type": "markdown",
     "checksum": "903e81588299f5794bfa215fd51335e5",
     "grade": false,
     "grade_id": "cell-831e5f62c29885c9",
     "locked": true,
     "schema_version": 3,
     "solution": false,
     "task": false
    }
   },
   "source": [
    "## Least Squares\n",
    "`leastSquares` calculates the [linear least squares](https://en.wikipedia.org/wiki/Linear_least_squares) approximation for relationship between DepDelay and WeatherDelay (y=bx+c, where x represents DepDelay and y WeatherDelay, b is the slope and c constant term). We want to predict WeatherDelay.\n",
    "\n",
    "`return`: tuple that has the constant term first and the slope second. If least squares can not be calculated, return 0.0 as terms.\n",
    "\n",
    "Hints:\n",
    "- Filter out entries where DepDelay<0 before calculating the linear least squares.\n",
    "- There are definitely multiple datapoints for a single DepDelay value so calculate the average WeatherDelay per DepDelay.\n",
    "- These links may be helpful:\n",
    "    - https://en.wikipedia.org/wiki/Simple_linear_regression#Fitting_the_regression_line\n",
    "    - http://www.neoprogrammics.com/linear_least_squares_regression\n",
    "    - https://www.youtube.com/watch?v=JvS2triCgOY"
   ]
  },
  {
   "cell_type": "code",
   "execution_count": 32,
   "metadata": {
    "deletable": false,
    "nbgrader": {
     "cell_type": "code",
     "checksum": "1141af4bfbb507d2d45b926afb8f3738",
     "grade": false,
     "grade_id": "cell-e21f08c02edc37c0",
     "locked": false,
     "schema_version": 3,
     "solution": true,
     "task": false
    }
   },
   "outputs": [],
   "source": [
    "from pyspark.sql.functions import mean as _mean\n",
    "from pyspark.sql.functions import udf\n",
    "from  pyspark.sql.types import DoubleType\n",
    "\n",
    "def leastSquares(df):\n",
    "    df = df.filter(col(\"WeatherDelay\").isNotNull()).filter(df.DepDelay >= 0).groupBy(\"DepDelay\") \\\n",
    "        .agg({'WeatherDelay':'avg'}) \\\n",
    "        .sort(\"avg(WeatherDelay)\", ascending=False)\n",
    "    \n",
    "    mean_dep_delay = df.agg({\"DepDelay\": \"avg\"}).first()[0]\n",
    "    mean_weather_delay = df.agg({\"avg(WeatherDelay)\": \"avg\"}).first()[0]\n",
    "    \n",
    "    square_diff_from_mean = udf(lambda x: (x-mean_dep_delay)**2, DoubleType())\n",
    "    prod_diff_from_mean = udf(lambda x, y: (x - mean_dep_delay)*(y - mean_weather_delay), DoubleType())\n",
    "    \n",
    "    df = df.withColumn(\"pow(x-x_mean,2)\", square_diff_from_mean(\"DepDelay\"))\n",
    "    df = df.withColumn(\"prod_diff_from_mean\",\n",
    "                       prod_diff_from_mean(\"DepDelay\", \"avg(WeatherDelay)\"))\n",
    "    \n",
    "    sum_pow = df.agg({\"pow(x-x_mean,2)\": \"sum\"}).first()[0]\n",
    "    sum_prod_diff = df.agg({\"prod_diff_from_mean\": \"sum\"}).first()[0]\n",
    "    \n",
    "    b = sum_prod_diff / sum_pow\n",
    "    c = -(b * mean_dep_delay) + mean_weather_delay\n",
    "    \n",
    "    return (c, b)"
   ]
  },
  {
   "cell_type": "code",
   "execution_count": 33,
   "metadata": {},
   "outputs": [
    {
     "data": {
      "text/plain": [
       "(952.0, -56.0)"
      ]
     },
     "execution_count": 33,
     "metadata": {},
     "output_type": "execute_result"
    }
   ],
   "source": [
    "# example print\n",
    "\n",
    "data = loadDataAndRegister(testFile)\n",
    "leastSquares(data)"
   ]
  },
  {
   "cell_type": "code",
   "execution_count": 34,
   "metadata": {
    "deletable": false,
    "editable": false,
    "nbgrader": {
     "cell_type": "code",
     "checksum": "18c12fed0d9e2f7013588e4a01dfa5c3",
     "grade": true,
     "grade_id": "cell-70f03bf015035b15",
     "locked": true,
     "points": 1,
     "schema_version": 3,
     "solution": false,
     "task": false
    }
   },
   "outputs": [],
   "source": [
    "data = loadDataAndRegister(testFile)\n",
    "test = leastSquares(data)\n",
    "assert test == (952.0, -56.0), \"the answer was expected to be (952.0, -56.0) but it was %s\" % test\n"
   ]
  },
  {
   "cell_type": "code",
   "execution_count": 35,
   "metadata": {
    "deletable": false,
    "editable": false,
    "nbgrader": {
     "cell_type": "code",
     "checksum": "70ad23f8f44e6fed33c37a2f2ac7296a",
     "grade": false,
     "grade_id": "cell-04d53b92c3d8b075",
     "locked": true,
     "schema_version": 3,
     "solution": false,
     "task": false
    }
   },
   "outputs": [],
   "source": [
    "spark.stop()"
   ]
  },
  {
   "cell_type": "code",
   "execution_count": null,
   "metadata": {},
   "outputs": [],
   "source": []
  }
 ],
 "metadata": {
  "kernelspec": {
   "display_name": "Python 3",
   "language": "python",
   "name": "python3"
  },
  "language_info": {
   "codemirror_mode": {
    "name": "ipython",
    "version": 3
   },
   "file_extension": ".py",
   "mimetype": "text/x-python",
   "name": "python",
   "nbconvert_exporter": "python",
   "pygments_lexer": "ipython3",
   "version": "3.8.3"
  }
 },
 "nbformat": 4,
 "nbformat_minor": 4
}
