{
 "cells": [
  {
   "cell_type": "markdown",
   "metadata": {},
   "source": [
    "Before you turn this problem in, make sure everything runs as expected. First, **restart the kernel** (in the menubar, select Kernel$\\rightarrow$Restart) and then **run all cells** (in the menubar, select Cell$\\rightarrow$Run All).\n",
    "\n",
    "Make sure you fill in any place that says `YOUR CODE HERE` or \"YOUR ANSWER HERE\". You can run all the tests with the validate button. If the validate command takes too long, you can also confirm that you pass all the tests if you can run through the whole notebook without getting validation errors."
   ]
  },
  {
   "cell_type": "markdown",
   "metadata": {
    "deletable": false,
    "editable": false,
    "nbgrader": {
     "cell_type": "markdown",
     "checksum": "57ad0738186ea0626c4fd4b92ce514a9",
     "grade": false,
     "grade_id": "cell-48610d55a376a686",
     "locked": true,
     "schema_version": 3,
     "solution": false,
     "task": false
    }
   },
   "source": [
    "For this problem set, we'll be using the Jupyter notebook:\n",
    "\n",
    "![](jupyter.png)"
   ]
  },
  {
   "cell_type": "markdown",
   "metadata": {
    "deletable": false,
    "editable": false,
    "nbgrader": {
     "cell_type": "markdown",
     "checksum": "19a3a33657e257621fe68f8eb2797914",
     "grade": false,
     "grade_id": "cell-2d783fb12da153ff",
     "locked": true,
     "schema_version": 3,
     "solution": false,
     "task": false
    }
   },
   "source": [
    "## RDD exercises\n",
    "\n",
    "In this notebook you will implement multiple small methods that process and analyze country, city and location data.\n",
    "\n",
    "We will use a sample data of \"allCountries.txt\" data from http://download.geonames.org/export/dump/allCountries.zip.  \n",
    "\n",
    "You can test your functions in the cell below them. The variable `testFile` contains the data.\n",
    "\n",
    "Read https://spark.apache.org/docs/latest/rdd-programming-guide.html for a guide about RDDs.\n",
    "\n",
    "### Data schema\n",
    "\n",
    "Name | Description\n",
    "------ | :-----\n",
    "geonameid         | integer id of record in geonames database  \n",
    "name              | name of geographical point (utf8) varchar(200)  \n",
    "asciiname         | name of geographical point in plain ascii characters, varchar(200)  \n",
    "alternatenames    | alternatenames, comma separated, ascii names automatically transliterated, convenience attribute from alternatename table, varchar(10000)  \n",
    "latitude          | latitude in decimal degrees (wgs84)  \n",
    "longitude         | longitude in decimal degrees (wgs84)  \n",
    "feature class     | see http://www.geonames.org/export/codes.html, char(1)  \n",
    "feature code      | see http://www.geonames.org/export/codes.html, varchar(10)  \n",
    "country code      | ISO-3166 2-letter country code, 2 characters  \n",
    "cc2               | alternate country codes, comma separated, ISO-3166 2-letter country code, 200 characters  \n",
    "admin1 code       | fipscode (subject to change to iso code), see exceptions below, see file admin1Codes.txt for display names of this code; varchar(20)  \n",
    "admin2 code       | code for the second administrative division, a county in the US, see file admin2Codes.txt; varchar(80)   \n",
    "admin3 code       | code for third level administrative division, varchar(20)  \n",
    "admin4 code       | code for fourth level administrative division, varchar(20)  \n",
    "population        | bigint (8 byte int)   \n",
    "elevation         | in meters, integer  \n",
    "dem               | digital elevation model, srtm3 or gtopo30, average elevation of 3''x3'' (ca 90mx90m) or   30''x30'' (ca 900mx900m) area in meters, integer. srtm processed by cgiar/ciat.  \n",
    "timezone          | the iana timezone id (see file timeZone.txt) varchar(40)  \n",
    "modification date | date of last modification in yyyy-MM-dd format  \n",
    "\n"
   ]
  },
  {
   "cell_type": "code",
   "execution_count": 1,
   "metadata": {
    "deletable": false,
    "editable": false,
    "nbgrader": {
     "cell_type": "code",
     "checksum": "01dac3c725e34aef207f3ad81017e047",
     "grade": false,
     "grade_id": "cell-9c0f982bcf421381",
     "locked": true,
     "schema_version": 3,
     "solution": false,
     "task": false
    }
   },
   "outputs": [],
   "source": [
    "from pyspark import SparkContext, SparkConf\n",
    "sc = SparkContext(\"local\",\"GeoProcessor\")\n",
    "testFile = sc.textFile(\"allCountries_sample.txt\")"
   ]
  },
  {
   "cell_type": "markdown",
   "metadata": {
    "deletable": false,
    "editable": false,
    "nbgrader": {
     "cell_type": "markdown",
     "checksum": "bdbbf7eb919e2b87aa990229d82bb995",
     "grade": false,
     "grade_id": "cell-b6cf075c1a4b0de3",
     "locked": true,
     "schema_version": 3,
     "solution": false,
     "task": false
    }
   },
   "source": [
    "## Extract Data\n",
    "`extractData` removes unnecessary fields and splits the data so that the RDD looks like  RDD(Array(\"name\",\"countryCode\",\"dem\"),...)).\n",
    "\n",
    "Fields to include:  \n",
    "* name  \n",
    "* counryCode  \n",
    "* dem (digital elevation model)  \n",
    "\n",
    "\n",
    "param `data`: data set loaded into spark as RDD[String]  \n",
    "\n",
    "`return`: RDD containing filtered location data. There should be an Array for each location.\n",
    "\n",
    "\n",
    "Hint: you can first split each line into an array. Columns are separated by tab (\"\\t\") character. Finally you should take the appropriate fields. The fields will be numbered by the location they are ordered in the original data scheme. Despite the method's name, you might only need the `map` function.\n",
    "\n",
    "\n"
   ]
  },
  {
   "cell_type": "code",
   "execution_count": 2,
   "metadata": {
    "deletable": false,
    "nbgrader": {
     "cell_type": "code",
     "checksum": "81e282a90f6502457c4c49e504393561",
     "grade": false,
     "grade_id": "cell-2aad3cb19270b166",
     "locked": false,
     "schema_version": 3,
     "solution": true,
     "task": false
    }
   },
   "outputs": [],
   "source": [
    "def extractData(data):\n",
    "    data = data.map(lambda line: line.split(\"\\t\")) \\\n",
    "            .map(lambda line: list((line[1], line[8], line[16] )))            \n",
    "                 \n",
    "    return data"
   ]
  },
  {
   "cell_type": "code",
   "execution_count": 3,
   "metadata": {},
   "outputs": [
    {
     "data": {
      "text/plain": [
       "[['Tosa de la Llosada', 'AD', '2475'],\n",
       " ['Riu de la Llosada', 'AD', '1900'],\n",
       " ['Obaga de la Llosada', 'AD', '2300'],\n",
       " ['Emprius de la Llosada', 'AD', '2299'],\n",
       " ['Basers de la Llosada', 'AD', '2321']]"
      ]
     },
     "execution_count": 3,
     "metadata": {},
     "output_type": "execute_result"
    }
   ],
   "source": [
    "#Example print\n",
    "\n",
    "extractData(testFile).take(5)"
   ]
  },
  {
   "cell_type": "code",
   "execution_count": 4,
   "metadata": {
    "deletable": false,
    "editable": false,
    "nbgrader": {
     "cell_type": "code",
     "checksum": "507de53415d81e081921e4060785df3d",
     "grade": true,
     "grade_id": "cell-830b55ca4fbd9b55",
     "locked": true,
     "points": 1,
     "schema_version": 3,
     "solution": false,
     "task": false
    }
   },
   "outputs": [],
   "source": [
    "'''extractData tests'''\n",
    "filtered = extractData(testFile)\n",
    "testObject = filtered.collect()[1]\n",
    "assert testObject[0] == \"Riu de la Llosada\", \"the name value of the object was expected to be 'Riu de la Llosada' but it was %s\" % testObject[0]\n",
    "assert testObject[1] == \"AD\", \"the country code value of the object was expected to be 'AD' but it was %s\" % testObject[1]\n",
    "assert testObject[2] == \"1900\", \"the dem value of the object was expected to be 1900 but it was %s\" % testObject[2]\n",
    "assert len(testObject) == 3, \"the length of the array was expected to be 3 but it was %s\" % len(testObject)\n",
    "assert type(testObject) is list, \"the type of the RDD element was expected to be list but it was %s\" % type(testObject)"
   ]
  },
  {
   "cell_type": "markdown",
   "metadata": {
    "deletable": false,
    "editable": false,
    "nbgrader": {
     "cell_type": "markdown",
     "checksum": "09ee229730882754dd6ca3550f2c8831",
     "grade": false,
     "grade_id": "cell-1180cc67a70d4727",
     "locked": true,
     "schema_version": 3,
     "solution": false,
     "task": false
    }
   },
   "source": [
    "## Filter Elevation\n",
    "\n",
    "`filterElevation` is used to filter an RDD to given country code and return an RDD containing only dem information. You will have to convert the dem information to `int` values.\n",
    "\n",
    "param `countryCode`: country code e.g \"AD\"  \n",
    "param `data`: an RDD containing multiple Array[\"name\", \"countryCode\", \"dem\"] (as in it was returned by the `extractData` function)   \n",
    "\n",
    "`return`: RDD[int] containing only dem information related to the country code  \n"
   ]
  },
  {
   "cell_type": "code",
   "execution_count": 5,
   "metadata": {
    "deletable": false,
    "nbgrader": {
     "cell_type": "code",
     "checksum": "ab2475ae4cc74d22e6f28f033b5e5b02",
     "grade": false,
     "grade_id": "cell-689e31df45bea124",
     "locked": false,
     "schema_version": 3,
     "solution": true,
     "task": false
    }
   },
   "outputs": [],
   "source": [
    "def filterElevation(countryCode, data):\n",
    "    res = data.filter(lambda x: x[1] == countryCode) \\\n",
    "            .map(lambda x: int(x[2]))\n",
    "    return res"
   ]
  },
  {
   "cell_type": "code",
   "execution_count": 6,
   "metadata": {},
   "outputs": [
    {
     "data": {
      "text/plain": [
       "[2475, 1900, 2300, 2299, 2321]"
      ]
     },
     "execution_count": 6,
     "metadata": {},
     "output_type": "execute_result"
    }
   ],
   "source": [
    "#Example print\n",
    "\n",
    "filterElevation(\"AD\", extractData(testFile)).take(5)"
   ]
  },
  {
   "cell_type": "code",
   "execution_count": 7,
   "metadata": {
    "deletable": false,
    "editable": false,
    "nbgrader": {
     "cell_type": "code",
     "checksum": "64b5d9fd88a4982217bc4342568b3022",
     "grade": true,
     "grade_id": "cell-983c241898825a0d",
     "locked": true,
     "points": 1,
     "schema_version": 3,
     "solution": false,
     "task": false
    }
   },
   "outputs": [],
   "source": [
    "'''filterElevation tests'''\n",
    "filtered = extractData(testFile)\n",
    "first = filterElevation(\"SE\", filtered).first()\n",
    "assert type(first) is int, \"the type of the RDD element was expected to be int but it was %s\" % type(first)\n",
    "assert first == 56, \"the value of the RDD element was expected to be 56 but it was %s\" % first\n",
    "object = filterElevation(\"AD\", filtered).collect()[4]\n",
    "assert object == 2321, \"the value of the RDD element was expected to be 2321 but it was %s\" % object"
   ]
  },
  {
   "cell_type": "markdown",
   "metadata": {
    "deletable": false,
    "editable": false,
    "nbgrader": {
     "cell_type": "markdown",
     "checksum": "3729c1df195a34011278fa736fb32cc6",
     "grade": false,
     "grade_id": "cell-02f6170a7fa92f53",
     "locked": true,
     "schema_version": 3,
     "solution": false,
     "task": false
    }
   },
   "source": [
    "## Elevation Average\n",
    "\n",
    "`elevationAverage` calculates the dem average to specific dataset.  \n",
    "\n",
    "param `data`: RDD[int] containing only dem information  \n",
    "\n",
    "`return`: The average elevation  \n"
   ]
  },
  {
   "cell_type": "code",
   "execution_count": 8,
   "metadata": {
    "deletable": false,
    "nbgrader": {
     "cell_type": "code",
     "checksum": "add7cf98afaea0c31a1eec26bbf686be",
     "grade": false,
     "grade_id": "cell-280da82e1c59ee6f",
     "locked": false,
     "schema_version": 3,
     "solution": true,
     "task": false
    }
   },
   "outputs": [],
   "source": [
    "def elevationAverage(data):\n",
    "    s = data.reduce(lambda x, y: x + y)\n",
    "    c = data.count()\n",
    "    return s / c"
   ]
  },
  {
   "cell_type": "code",
   "execution_count": 9,
   "metadata": {},
   "outputs": [
    {
     "data": {
      "text/plain": [
       "1792.25"
      ]
     },
     "execution_count": 9,
     "metadata": {},
     "output_type": "execute_result"
    }
   ],
   "source": [
    "#Example print\n",
    "\n",
    "elevationAverage(sc.parallelize(filterElevation(\"AD\", extractData(testFile)).collect()))"
   ]
  },
  {
   "cell_type": "code",
   "execution_count": 10,
   "metadata": {
    "deletable": false,
    "editable": false,
    "nbgrader": {
     "cell_type": "code",
     "checksum": "e0ea30bf26cf97c82b9ef0265fbfcf44",
     "grade": true,
     "grade_id": "cell-2026bf6db2faf409",
     "locked": true,
     "points": 1,
     "schema_version": 3,
     "solution": false,
     "task": false
    }
   },
   "outputs": [],
   "source": [
    "'''elevationAverage tests'''\n",
    "avg = elevationAverage(sc.parallelize([1, 2, 3 ,4])) \n",
    "assert abs(avg - 2.5) < 0.00001, \"the average was expected to be 2.5 but it was %s\" % avg\n",
    "filtered = extractData(testFile)\n",
    "elevations = filterElevation(\"AD\", filtered)\n",
    "avg2 = elevationAverage(elevations)\n",
    "assert abs(avg2 - 1792.25) < 0.00001, \"the average was expected to be 1792.25 but it was %s\" % avg2\n",
    "assert type(avg2) is float, \"the type of the RDD element was expected to be float but it was %s\" % type(avg2)"
   ]
  },
  {
   "cell_type": "markdown",
   "metadata": {
    "deletable": false,
    "editable": false,
    "nbgrader": {
     "cell_type": "markdown",
     "checksum": "3a046f427069e2d0ec4797797b869656",
     "grade": false,
     "grade_id": "cell-e12d8c47f4c7d0cd",
     "locked": true,
     "schema_version": 3,
     "solution": false,
     "task": false
    }
   },
   "source": [
    "## Most Common Words\n",
    "\n",
    "`mostCommonWords` calculates what is the most common  word in place names and returns an RDD[(String,Int)]. You can assume that words are separated by a single space ' '.\n",
    "\n",
    "param `data`: an RDD containing multiple Array[\"name\", \"countryCode\", \"dem\"].  \n",
    "\n",
    "`return`: RDD[(String,Int)] where string is the word and Int number of occurances. RDD should be in descending order (sorted by number of occurances). e.g (\"hotel\", 234), (\"airport\", 120), (\"new\", 12). \n",
    "\n",
    "Example:  \n",
    "Assume that the place name is \"Andorra la Vella Heliport\". We split the name so that we have 4 seperate words \"Andorra\", \"la\", \"Vella\" and \"Heliport\".\n"
   ]
  },
  {
   "cell_type": "code",
   "execution_count": 11,
   "metadata": {
    "deletable": false,
    "nbgrader": {
     "cell_type": "code",
     "checksum": "4febd89d6d1863e0dcf5db4854273fa8",
     "grade": false,
     "grade_id": "cell-5917116696350d94",
     "locked": false,
     "schema_version": 3,
     "solution": true,
     "task": false
    }
   },
   "outputs": [],
   "source": [
    "def mostCommonWords(data):\n",
    "    counts = data.flatMap(lambda line: line[0].split(\" \")) \\\n",
    "                .map(lambda word: (word, 1)) \\\n",
    "                .reduceByKey(lambda a, b: a + b) \\\n",
    "                .sortBy(lambda a: -a[1])\n",
    "    return counts"
   ]
  },
  {
   "cell_type": "code",
   "execution_count": 12,
   "metadata": {},
   "outputs": [
    {
     "data": {
      "text/plain": [
       "[('Hotel', 22), ('de', 15), ('la', 12), ('Hotell', 7), ('dels', 6)]"
      ]
     },
     "execution_count": 12,
     "metadata": {},
     "output_type": "execute_result"
    }
   ],
   "source": [
    "#Example print\n",
    "\n",
    "mostCommonWords(extractData(testFile)).take(5)\n"
   ]
  },
  {
   "cell_type": "code",
   "execution_count": 13,
   "metadata": {
    "deletable": false,
    "editable": false,
    "nbgrader": {
     "cell_type": "code",
     "checksum": "1bba62b53c0007633487e6bb31a2cc79",
     "grade": true,
     "grade_id": "cell-d968b42e1d3db721",
     "locked": true,
     "points": 1,
     "schema_version": 3,
     "solution": false,
     "task": false
    }
   },
   "outputs": [],
   "source": [
    "'''mostCommonWords tests'''\n",
    "filtered = extractData(testFile)\n",
    "words = mostCommonWords(filtered).collect()\n",
    "first = words[0]\n",
    "second = words[1]\n",
    "third = words[2]\n",
    "assert type(first[0]) is str, \"the type of the first value in array was expected to be str but it was %s\" % type(first[0])\n",
    "assert type(first[1]) is int, \"the type of the second value in array was expected to be int but it was %s\" % type(first[1])\n",
    "assert first[1] >= second[1], \"the first element in RDD was expected to have more occurances than the second\"\n",
    "assert first[0] == \"Hotel\", \"the first element was expected to be named Hotel but it was %s\" % first[0]\n",
    "assert first[1] == 22, \"the count of the first element was expected to be 22 but it was %s\" % first[1]\n",
    "assert third[0] == \"la\", \"the third element was expected to be named 'la' but it was %s\" % third[0]"
   ]
  },
  {
   "cell_type": "markdown",
   "metadata": {
    "deletable": false,
    "editable": false,
    "nbgrader": {
     "cell_type": "markdown",
     "checksum": "ace5a0bbde707885490bc4f6b81a1d63",
     "grade": false,
     "grade_id": "cell-54fe24add3747304",
     "locked": true,
     "schema_version": 3,
     "solution": false,
     "task": false
    }
   },
   "source": [
    "## Most Common Country\n",
    "\n",
    "`mostCommonCountry` tells which country has the most entries in geolocation data. The correct name for specific countrycode can be found from countrycodes.csv. The columns in countrycodes.csv are seperated by \",\". More specifially, the file is structured like this:\n",
    "\n",
    "Fiji,FJ  \n",
    "Finland,FI  \n",
    "France,FR  \n",
    "\n",
    "param `data`: an RDD containing multiple Array[\"name\", \"countryCode\", \"dem\"].  \n",
    "param `codeData`: data from countrycodes.csv file  \n",
    "\n",
    "`return`: most common country as String e.g Finland or empty string \"\" if countrycodes.csv doesn't have that entry.\n"
   ]
  },
  {
   "cell_type": "code",
   "execution_count": 14,
   "metadata": {
    "deletable": false,
    "nbgrader": {
     "cell_type": "code",
     "checksum": "8d36bdc7bce53a0dcae8fb79cf4d7714",
     "grade": false,
     "grade_id": "cell-1db3f9f8edc21911",
     "locked": false,
     "schema_version": 3,
     "solution": true,
     "task": false
    }
   },
   "outputs": [],
   "source": [
    "countryCodes = sc.textFile(\"countrycodes.csv\")\n",
    "\n",
    "def mostCommonCountry(data, codeData):\n",
    "    country = data.map(lambda x: x[1]) \\\n",
    "                .map(lambda word: (word, 1)) \\\n",
    "                .reduceByKey(lambda a, b: a + b) \\\n",
    "                .sortBy(lambda a: -a[1]).first()\n",
    "    \n",
    "    countryName = codeData.map(lambda x: x.split(\",\")) \\\n",
    "                    .filter(lambda x: x[1] == country[0])\n",
    "\n",
    "    return countryName.first()[0] if not countryName.isEmpty() else \"\"\n",
    "        "
   ]
  },
  {
   "cell_type": "code",
   "execution_count": 15,
   "metadata": {},
   "outputs": [
    {
     "data": {
      "text/plain": [
       "''"
      ]
     },
     "execution_count": 15,
     "metadata": {},
     "output_type": "execute_result"
    }
   ],
   "source": [
    "#Example print\n",
    "\n",
    "# mostCommonCountry(extractData(testFile), countryCodes)\n",
    "\n",
    "false = sc.parallelize([[\"a\", \"AA\", 123], [\"b\", \"AA\", 1234]])\n",
    "mostCommonCountry(false, countryCodes)"
   ]
  },
  {
   "cell_type": "code",
   "execution_count": 16,
   "metadata": {
    "deletable": false,
    "editable": false,
    "nbgrader": {
     "cell_type": "code",
     "checksum": "52e583721ced67db8953cf4b75b57a72",
     "grade": true,
     "grade_id": "cell-c56eeaa92283d707",
     "locked": true,
     "points": 1,
     "schema_version": 3,
     "solution": false,
     "task": false
    }
   },
   "outputs": [],
   "source": [
    "'''mostCommonCountry tests'''\n",
    "filtered = extractData(testFile)\n",
    "mostCommon = mostCommonCountry(filtered, countryCodes)\n",
    "assert type(mostCommon) is str, \"the type of the returned object was expected to be str but it was %s\" % type(mostCommon)\n",
    "assert mostCommon == \"Sweden\", \"the most common was expected to be Sweden but it was %s\" % mostCommon\n",
    "mostCommon2 = mostCommonCountry(sc.parallelize(filtered.take(40)), countryCodes)\n",
    "assert mostCommon2 == \"Andorra\", \"the most common was expected to be Andorra but it was %s\" % mostCommon2\n",
    "false = sc.parallelize([[\"a\", \"AA\", 123], [\"b\", \"AA\", 1234]])\n",
    "assert mostCommonCountry(false, countryCodes) == \"\", \"The method was expected to return empty when called with false data\""
   ]
  },
  {
   "cell_type": "markdown",
   "metadata": {
    "deletable": false,
    "editable": false,
    "nbgrader": {
     "cell_type": "markdown",
     "checksum": "73e04f62adb711dd90208800107b24b2",
     "grade": false,
     "grade_id": "cell-54cc831e422cd87d",
     "locked": true,
     "schema_version": 3,
     "solution": false,
     "task": false
    }
   },
   "source": [
    "## Hotels In Area\n",
    "\n",
    "`hotelsInArea` determines how many hotels there are within 10 km (<=10000.0) from given latitude and longitude.\n",
    "Use Haversine formula ( https://en.wikipedia.org/wiki/Haversine_formula ). Earth radius is 6371000 meters. \n",
    "\n",
    "In this exercise you should use the asciiname field instead of name. Start by reading the data and getting the correct fields (asciiname, latitude, longitude) similarly to the `extractData` function. After that you should use the Haversine formula to filter the places in 10 Km radius from the latitude and longitude. You will probably want to use a helper function, Python lets you create functions inside functions. Finally, you will want to filter the places that contain the word \"hotel\". Location is a hotel if the name contains the word \"hotel\" (can be \"Hotel\" or \"hOtel\" for instance). There can exist multiple hotels in the same location. You should not count the same hotel multiple times.\n",
    "\n",
    "Note that both latitude and longitude in the data are in decimal degree so you have to change them to radians ( https://en.wikipedia.org/wiki/Decimal_degrees ). They should also be converted to double values. E.g `math.radians(float(x))`\n",
    "\n",
    "param `lat`: latitude as Double  \n",
    "param `long`: longitude as Double  \n",
    "param `data`: the original data set loaded into spark as RDD[String].  \n",
    "\n",
    "`return`: number of hotels in area\n"
   ]
  },
  {
   "cell_type": "code",
   "execution_count": 20,
   "metadata": {
    "deletable": false,
    "nbgrader": {
     "cell_type": "code",
     "checksum": "2ffea745937f6a0499f3df474c32d1e6",
     "grade": false,
     "grade_id": "cell-fe6bc32b1edd450b",
     "locked": false,
     "schema_version": 3,
     "solution": true,
     "task": false
    }
   },
   "outputs": [],
   "source": [
    "import math\n",
    "\n",
    "\n",
    "def hotelsInArea(lat, long, data):\n",
    "    \n",
    "    def getDistanceInMeters(coord1,coord2):\n",
    "        lon1,lat1=coord1\n",
    "        lon2,lat2=coord2\n",
    "\n",
    "        R=6371000               \n",
    "        phi_1=math.radians(lat1)\n",
    "        phi_2=math.radians(lat2)\n",
    "        \n",
    "        delta_phi=math.radians(lat2-lat1)\n",
    "        delta_lambda=math.radians(lon2-lon1)\n",
    "\n",
    "        a=math.sin(delta_phi/2.0)**2+\\\n",
    "           math.cos(phi_1)*math.cos(phi_2)*\\\n",
    "           math.sin(delta_lambda/2.0)**2\n",
    "        c=2*math.atan2(math.sqrt(a),math.sqrt(1-a))\n",
    "    \n",
    "        return R*c\n",
    "\n",
    "    return data.map(lambda line: line.split(\"\\t\")) \\\n",
    "            .map(lambda line: list((line[2], float(line[5]), float(line[4])))) \\\n",
    "            .filter(lambda x: getDistanceInMeters((x[1], x[2]), (long, lat)) <= 10000) \\\n",
    "            .map(lambda x: x[0]) \\\n",
    "            .filter(lambda x: \"hotel\" in x.lower()).distinct().count()\n",
    "\n"
   ]
  },
  {
   "cell_type": "code",
   "execution_count": 21,
   "metadata": {},
   "outputs": [
    {
     "name": "stdout",
     "output_type": "stream",
     "text": [
      "0 3 1\n"
     ]
    }
   ],
   "source": [
    "#Example print\n",
    "\n",
    "a1 = hotelsInArea(42.5423, 1.5977, testFile)\n",
    "a2 = hotelsInArea(59.334591, 18.063240, testFile)\n",
    "a3 = hotelsInArea(63.8532, 15.5652, testFile)\n",
    "print(a1, a2, a3)"
   ]
  },
  {
   "cell_type": "code",
   "execution_count": 22,
   "metadata": {
    "deletable": false,
    "editable": false,
    "nbgrader": {
     "cell_type": "code",
     "checksum": "a8e2121b67fd912077a449c2ce41eba7",
     "grade": true,
     "grade_id": "cell-f684ffd6b09007fa",
     "locked": true,
     "points": 1,
     "schema_version": 3,
     "solution": false,
     "task": false
    }
   },
   "outputs": [],
   "source": [
    "'''hotelsInArea tests'''\n",
    "a1 = hotelsInArea(42.5423, 1.5977, testFile)\n",
    "a2 = hotelsInArea(59.334591, 18.063240, testFile)\n",
    "a3 = hotelsInArea(63.8532, 15.5652, testFile)\n",
    "assert a1 == 0, \"the number of hotels was expected to be 0 but it was %s\" % a1\n",
    "assert a2 == 3, \"the number of hotels was expected to be 3 but it was %s\" % a2\n",
    "assert a3 == 1, \"the number of hotels was expected to be 1 but it was %s\" % a3"
   ]
  },
  {
   "cell_type": "code",
   "execution_count": 20,
   "metadata": {
    "deletable": false,
    "editable": false,
    "nbgrader": {
     "cell_type": "code",
     "checksum": "75a09be76411fb4ecb6b9a4ca04b50be",
     "grade": false,
     "grade_id": "cell-7a535b3f8fc9f1f5",
     "locked": true,
     "schema_version": 3,
     "solution": false,
     "task": false
    }
   },
   "outputs": [],
   "source": [
    "sc.stop()"
   ]
  },
  {
   "cell_type": "code",
   "execution_count": null,
   "metadata": {},
   "outputs": [],
   "source": []
  }
 ],
 "metadata": {
  "kernelspec": {
   "display_name": "Python 3",
   "language": "python",
   "name": "python3"
  },
  "language_info": {
   "codemirror_mode": {
    "name": "ipython",
    "version": 3
   },
   "file_extension": ".py",
   "mimetype": "text/x-python",
   "name": "python",
   "nbconvert_exporter": "python",
   "pygments_lexer": "ipython3",
   "version": "3.8.3"
  }
 },
 "nbformat": 4,
 "nbformat_minor": 4
}
